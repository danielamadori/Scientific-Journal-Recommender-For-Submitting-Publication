{
 "cells": [
  {
   "cell_type": "markdown",
   "metadata": {
    "id": "tMdvYrtPfZqF"
   },
   "source": [
    "# **Scientific journal recommender for submitting a publication**"
   ]
  },
  {
   "cell_type": "code",
   "metadata": {
    "colab": {
     "base_uri": "https://localhost:8080/"
    },
    "id": "V0MYiOGlOFYA",
    "outputId": "fe969e86-902b-4c45-880a-379549a696f4",
    "ExecuteTime": {
     "end_time": "2025-07-31T16:11:21.054342Z",
     "start_time": "2025-07-31T16:11:14.530550Z"
    }
   },
   "source": [
    "import pandas as pd\n",
    "\n",
    "folder = \"dataset/\"\n",
    "\n",
    "'''\n",
    "from google.colab import drive\n",
    "drive.mount('/content/drive')\n",
    "colab_folder = 'drive/MyDrive/Colab Notebooks/ScientificJournalRecommenderForSubmittingPublication/'\n",
    "folder = colab_folder + folder\n",
    "'''\n",
    "df = pd.read_csv(folder + 'selected_cleaned.csv')\n",
    "\n",
    "target = 'journal'\n",
    "\n",
    "features = df.columns.tolist()\n",
    "features.remove(target)\n",
    "\n",
    "# Text Representation: all the words of the selected features in a single column\n",
    "\n",
    "df['X'] = df[features[0]]\n",
    "for i in range(1, len(features)):\n",
    "    df['X'] = df['X'] + df[features[i]]\n",
    "\n",
    "# Remove null values\n",
    "df = df.dropna(subset=['X'])\n",
    "\n",
    "# Encode target_name\n",
    "labels = df[target].unique()\n",
    "df['y'] = df[target].replace(labels, list(range(len(labels))))\n",
    "\n",
    "# Remove unnecessary columns\n",
    "df = df[['X', 'y']]\n",
    "print(df.info())\n",
    "df.head()\n",
    "df.to_csv(folder + 'selected_cleaned_combined_text.csv', index=False)"
   ],
   "outputs": [
    {
     "name": "stderr",
     "output_type": "stream",
     "text": [
      "C:\\Users\\danie\\AppData\\Local\\Temp\\ipykernel_26200\\1864768517.py:29: FutureWarning: Downcasting behavior in `replace` is deprecated and will be removed in a future version. To retain the old behavior, explicitly call `result.infer_objects(copy=False)`. To opt-in to the future behavior, set `pd.set_option('future.no_silent_downcasting', True)`\n",
      "  df['y'] = df[target].replace(labels, list(range(len(labels))))\n"
     ]
    },
    {
     "name": "stdout",
     "output_type": "stream",
     "text": [
      "<class 'pandas.core.frame.DataFrame'>\n",
      "RangeIndex: 179104 entries, 0 to 179103\n",
      "Data columns (total 2 columns):\n",
      " #   Column  Non-Null Count   Dtype \n",
      "---  ------  --------------   ----- \n",
      " 0   X       179104 non-null  object\n",
      " 1   y       179104 non-null  int64 \n",
      "dtypes: int64(1), object(1)\n",
      "memory usage: 2.7+ MB\n",
      "None\n"
     ]
    }
   ],
   "execution_count": 5
  },
  {
   "cell_type": "code",
   "metadata": {
    "colab": {
     "base_uri": "https://localhost:8080/",
     "height": 709
    },
    "id": "l9FJJJNjOz0f",
    "outputId": "d6074629-a4da-4299-f9be-ebf5d3a4d57f",
    "ExecuteTime": {
     "end_time": "2025-07-31T16:11:28.008018Z",
     "start_time": "2025-07-31T16:11:21.066834Z"
    }
   },
   "source": [
    "from utils import word_frequency_analysis\n",
    "\n",
    "df = pd.read_csv(folder + 'selected_cleaned_combined_text.csv')\n",
    "\n",
    "# Number words for each frequency\n",
    "number_words_frequency = word_frequency_analysis(df, 'X', 15)"
   ],
   "outputs": [
    {
     "name": "stdout",
     "output_type": "stream",
     "text": [
      "Word frequency analysis for feature: X\n",
      "\n",
      "Number of unique words:  68615\n",
      "Number of words with frequency >= 2: 68615\n",
      "Number of words with frequency >= 3: 68615\n",
      "Number of words with frequency >= 4: 68615\n",
      "Number of words with frequency >= 5: 68615\n",
      "Number of words with frequency >= 6: 68615\n",
      "Number of words with frequency >= 7: 68615\n",
      "Number of words with frequency >= 8: 68615\n",
      "Number of words with frequency >= 9: 68615\n",
      "Number of words with frequency >= 10: 68615\n",
      "Number of words with frequency >= 11: 68615\n",
      "Number of words with frequency >= 12: 68615\n",
      "Number of words with frequency >= 13: 68615\n",
      "Number of words with frequency >= 14: 68615\n"
     ]
    },
    {
     "data": {
      "text/plain": [
       "<Figure size 1000x500 with 1 Axes>"
      ],
      "image/png": "[encoded data removed]"
     },
     "metadata": {},
     "output_type": "display_data"
    }
   ],
   "execution_count": 6
  },
  {
   "cell_type": "markdown",
   "metadata": {
    "id": "_81JoPc4Oz0l"
   },
   "source": [
    "# Divide the dataset into training and test sets"
   ]
  },
  {
   "cell_type": "code",
   "metadata": {
    "colab": {
     "base_uri": "https://localhost:8080/"
    },
    "id": "jLhVc8ZkOz0n",
    "outputId": "13530cc9-0d87-46de-a691-c3d7490bd8b3",
    "ExecuteTime": {
     "end_time": "2025-07-31T16:11:28.155054Z",
     "start_time": "2025-07-31T16:11:28.040374Z"
    }
   },
   "source": [
    "from sklearn.model_selection import train_test_split\n",
    "import gc\n",
    "\n",
    "df_train, df_test = train_test_split(df, train_size=0.8, random_state=42)\n",
    "# Delete df to free memory\n",
    "df = None\n",
    "gc.collect()"
   ],
   "outputs": [
    {
     "data": {
      "text/plain": [
       "4814"
      ]
     },
     "execution_count": 7,
     "metadata": {},
     "output_type": "execute_result"
    }
   ],
   "execution_count": 7
  },
  {
   "cell_type": "markdown",
   "metadata": {
    "id": "ZajXFACiOz0p"
   },
   "source": [
    "## Bag of Words\n",
    "\n",
    "The **Bag of Words** is a representation of a text that describes the occurrence of words within a document.\n",
    "The Bag of Words is created using the following methods:\n",
    "* **CountVectorizer**: It counts the number of times a word appears in a document.\n",
    "* **TfidfVectorizer**: It counts the number of times a word appears in a document, but it also takes into account the frequency of the word in the entire corpus.\n",
    "\n",
    "Parameters:\n",
    "* **max_features**: build a vocabulary that only consider the top max_features ordered by term frequency across the corpus."
   ]
  },
  {
   "metadata": {},
   "cell_type": "code",
   "outputs": [],
   "execution_count": null,
   "source": [
    "from sklearn.feature_extraction.text import CountVectorizer, TfidfVectorizer\n",
    "\n",
    "frequency = 13 #7\n",
    "max_features = number_words_frequency[frequency]\n",
    "print(f\"Words with frequency >= {frequency}: Max features: {max_features}\")\n",
    "\n",
    "bowCount = CountVectorizer(max_features=max_features)\n",
    "\n",
    "X_train_Count = bowCount.fit_transform(df_train['X']).toarray()\n",
    "X_test_Count = bowCount.transform(df_test['X']).toarray()\n",
    "\n",
    "bowTfidf = TfidfVectorizer(max_features=max_features)\n",
    "\n",
    "X_train_Tfidf = bowTfidf.fit_transform(df_train['X']).toarray()\n",
    "X_test_Tfidf = bowTfidf.transform(df_test['X']).toarray()\n",
    "\n",
    "y_train = df_train['y']\n",
    "y_test = df_test['y']"
   ]
  },
  {
   "cell_type": "markdown",
   "metadata": {
    "id": "wjbf5z8aiEUt"
   },
   "source": [
    "## Clasification\n",
    "\n",
    "The classification is performed using the **Random Forest** algorithm.\n",
    "It is an ensemble learning method that operates by constructing a multitude of decision trees at training time and outputting the class that is the mode of the classes (classification) or mean prediction (regression) of the individual trees."
   ]
  },
  {
   "cell_type": "code",
   "metadata": {
    "collapsed": false
   },
   "source": [
    "from utils import evaluation_report, plot_class_distribution\n",
    "\n",
    "plot_class_distribution(y_train, labels)"
   ],
   "outputs": [],
   "execution_count": null
  },
  {
   "cell_type": "code",
   "source": [
    "from sklearn.ensemble import RandomForestClassifier\n",
    "\n",
    "# BoW ConuntVectorizer\n",
    "cls = RandomForestClassifier()\n",
    "cls.fit(X_train_Count, y_train)\n",
    "y_pred = cls.predict(X_test_Count)\n",
    "\n",
    "evaluation_report(y_test, y_pred, labels)"
   ],
   "metadata": {
    "collapsed": false
   },
   "outputs": [],
   "execution_count": null
  },
  {
   "cell_type": "code",
   "source": [
    "# BoW TfidfVectorizer\n",
    "cls = RandomForestClassifier()\n",
    "cls.fit(X_train_Tfidf, y_train)\n",
    "y_pred = cls.predict(X_test_Tfidf)\n",
    "\n",
    "evaluation_report(y_test, y_pred, labels)"
   ],
   "metadata": {
    "colab": {
     "base_uri": "https://localhost:8080/",
     "height": 1000
    },
    "id": "URkwEQaGQJCO",
    "outputId": "1d5820e9-9295-443b-ce87-ece3b1ef0e16"
   },
   "outputs": [],
   "execution_count": null
  },
  {
   "metadata": {},
   "cell_type": "code",
   "outputs": [],
   "execution_count": null,
   "source": [
    "from imblearn.under_sampling import RandomUnderSampler\n",
    "\n",
    "sampler = RandomUnderSampler(random_state=42)\n",
    "\n",
    "# BoW ConuntVectorizer\n",
    "X_train_under_sampled, y_train_under_sampled = sampler.fit_resample(X_train_Count, y_train)\n",
    "plot_class_distribution(y_train_under_sampled, labels)\n",
    "\n",
    "cls = RandomForestClassifier()\n",
    "cls.fit(X_train_under_sampled, y_train_under_sampled)\n",
    "y_pred = cls.predict(X_test_Count)\n",
    "\n",
    "evaluation_report(y_test, y_pred, labels)"
   ]
  },
  {
   "metadata": {},
   "cell_type": "code",
   "outputs": [],
   "execution_count": null,
   "source": [
    "from imblearn.under_sampling import RandomUnderSampler\n",
    "import gc\n",
    "\n",
    "sampler = RandomUnderSampler(random_state=42)\n",
    "\n",
    "# BoW TfidfVectorizer\n",
    "X_train_under_sampled, y_train_under_sampled = sampler.fit_resample(X_train_Tfidf, y_train)\n",
    "\n",
    "cls = RandomForestClassifier()\n",
    "cls.fit(X_train_under_sampled, y_train_under_sampled)\n",
    "y_pred = cls.predict(X_test_Tfidf)\n",
    "\n",
    "evaluation_report(y_test, y_pred, labels)\n",
    "\n",
    "X_train_under_sampled = None\n",
    "y_train_under_sampled = None\n",
    "\n",
    "gc.collect()"
   ]
  },
  {
   "cell_type": "code",
   "metadata": {
    "colab": {
     "base_uri": "https://localhost:8080/",
     "height": 1000
    },
    "id": "jj9_bUbx2fAx",
    "outputId": "032996ee-5ece-41de-aa1f-a0961da273fd"
   },
   "source": [
    "from imblearn.over_sampling import RandomOverSampler\n",
    "\n",
    "sampler = RandomOverSampler(random_state=42)\n",
    "\n",
    "# BoW ConuntVectorizer\n",
    "X_train_over_sampled, y_train_over_sampled = sampler.fit_resample(X_train_Count, y_train)\n",
    "plot_class_distribution(y_train_over_sampled, labels)\n",
    "\n",
    "cls = RandomForestClassifier()\n",
    "cls.fit(X_train_over_sampled, y_train_over_sampled)\n",
    "y_pred = cls.predict(X_test_Count)\n",
    "\n",
    "evaluation_report(y_test, y_pred, labels)"
   ],
   "outputs": [],
   "execution_count": null
  },
  {
   "cell_type": "code",
   "metadata": {
    "id": "TNXGpF8AOz01"
   },
   "source": [
    "from imblearn.over_sampling import RandomOverSampler\n",
    "\n",
    "sampler = RandomOverSampler(random_state=42)\n",
    "\n",
    "# BoW TfidfVectorizer\n",
    "X_train_over_sampled, y_train_over_sampled = sampler.fit_resample(X_train_Tfidf, y_train)\n",
    "\n",
    "cls = RandomForestClassifier()\n",
    "cls.fit(X_train_over_sampled, y_train_over_sampled)\n",
    "y_pred = cls.predict(X_test_Tfidf)\n",
    "\n",
    "evaluation_report(y_test, y_pred, labels)"
   ],
   "outputs": [],
   "execution_count": null
  },
  {
   "cell_type": "code",
   "metadata": {
    "colab": {
     "base_uri": "https://localhost:8080/",
     "height": 1000
    },
    "id": "dm7YXM_SOz06",
    "outputId": "57bdb23a-3b37-498b-ab47-58eea86e7714"
   },
   "source": [
    "# Cleaning memory\n",
    "import gc\n",
    "\n",
    "bowCount = None\n",
    "bowTfidf = None\n",
    "X_train = None\n",
    "X_test = None\n",
    "y_test = None\n",
    "y_train = None\n",
    "y_pred = None\n",
    "X_train_over_sampled = None\n",
    "y_train_over_sampled = None\n",
    "X_train_Count = None\n",
    "X_test_Count = None\n",
    "X_train_Tfidf = None\n",
    "X_test_Tfidf = None\n",
    "\n",
    "gc.collect()"
   ],
   "outputs": [],
   "execution_count": null
  },
  {
   "cell_type": "markdown",
   "metadata": {
    "id": "Xk2zCYd5cmK4"
   },
   "source": [
    "\n",
    "## Connectionist techniques\n",
    "\n",
    "In this case, after pre-processing, a neural network based on an LSTM unit is trained."
   ]
  },
  {
   "cell_type": "code",
   "metadata": {
    "id": "bjKZ7Y-g9tdH",
    "colab": {
     "base_uri": "https://localhost:8080/"
    },
    "outputId": "639e438a-6840-452d-b58a-a20458a46a22"
   },
   "source": [
    "import tensorflow as tf\n",
    "import pandas as pd\n",
    "device = tf.config.list_physical_devices('GPU')\n",
    "\n",
    "#from google.colab import drive\n",
    "#drive.mount('/content/drive')\n",
    "#folder = 'drive/MyDrive/Colab Notebooks/ScientificJournalRecommenderForSubmittingPublication/datasets/'\n",
    "folder = 'dataset/'\n",
    "df = pd.read_csv(folder + 'selected_cleaned.csv')\n",
    "\n",
    "target = 'journal'\n",
    "\n",
    "features = df.columns.tolist()\n",
    "features.remove(target)\n",
    "\n",
    "df.info()"
   ],
   "outputs": [],
   "execution_count": null
  },
  {
   "cell_type": "code",
   "source": [
    "from utils import sentences_length_analysis\n",
    "from utils import word_frequency_analysis\n",
    "\n",
    "sentences_length = {}\n",
    "number_words_frequency = {}\n",
    "\n",
    "feature = features[0]\n",
    "sentences_length_analysis(df, feature, [0, 300])\n",
    "sentences_length_analysis(df, feature, [150, 300])\n",
    "sentences_length_analysis(df, feature, [250, 300])"
   ],
   "metadata": {
    "collapsed": false
   },
   "outputs": [],
   "execution_count": null
  },
  {
   "cell_type": "code",
   "source": [
    "sentences_length[feature] = 280\n",
    "\n",
    "number_words_frequency[feature] = word_frequency_analysis(df, feature, 20)"
   ],
   "metadata": {
    "collapsed": false
   },
   "outputs": [],
   "execution_count": null
  },
  {
   "cell_type": "code",
   "source": [
    "frequency = 4 \n",
    "number_words_frequency[feature] = number_words_frequency[feature][frequency]\n",
    "\n",
    "print(f\"Feature: {feature}\")\n",
    "print(f\"Words with frequency >= {frequency}: {number_words_frequency[feature]}\")\n",
    "print(f\"Sentences length: {sentences_length[feature]}\")"
   ],
   "metadata": {
    "collapsed": false
   },
   "outputs": [],
   "execution_count": null
  },
  {
   "cell_type": "code",
   "source": [
    "feature = features[1]\n",
    "\n",
    "sentences_length_analysis(df, feature, [0, 30])\n",
    "sentences_length_analysis(df, feature, [10, 25])\n",
    "sentences_length_analysis(df, feature, [15, 25])"
   ],
   "metadata": {
    "collapsed": false
   },
   "outputs": [],
   "execution_count": null
  },
  {
   "cell_type": "code",
   "source": [
    "sentences_length[feature] = 18\n",
    "\n",
    "number_words_frequency[feature] = word_frequency_analysis(df, feature, 25)"
   ],
   "metadata": {
    "collapsed": false
   },
   "outputs": [],
   "execution_count": null
  },
  {
   "cell_type": "code",
   "source": [
    "frequency = 2\n",
    "number_words_frequency[feature] = number_words_frequency[feature][frequency]\n",
    "\n",
    "print(f\"Feature: {feature}\")\n",
    "print(f\"Words with frequency >= {frequency}: {number_words_frequency[feature]}\")\n",
    "print(f\"Sentences length: {sentences_length[feature]}\")"
   ],
   "metadata": {
    "collapsed": false
   },
   "outputs": [],
   "execution_count": null
  },
  {
   "cell_type": "code",
   "source": [
    "feature = features[2]\n",
    "\n",
    "sentences_length_analysis(df, feature, [0, 30])\n",
    "sentences_length_analysis(df, feature, [8, 25])\n",
    "sentences_length_analysis(df, feature, [8, 17])"
   ],
   "metadata": {
    "colab": {
     "base_uri": "https://localhost:8080/",
     "height": 1000
    },
    "id": "gJuThZc1Oz1B",
    "outputId": "9f176b2a-f7c4-41ab-c1f1-84303ba8a398"
   },
   "outputs": [],
   "execution_count": null
  },
  {
   "cell_type": "code",
   "source": [
    "sentences_length[feature] = 14\n",
    "\n",
    "number_words_frequency[feature] = word_frequency_analysis(df, feature, 20)"
   ],
   "metadata": {
    "collapsed": false
   },
   "outputs": [],
   "execution_count": null
  },
  {
   "cell_type": "code",
   "source": [
    "frequency = 2\n",
    "number_words_frequency[feature] = number_words_frequency[feature][frequency]\n",
    "\n",
    "print(f\"Feature: {feature}\")\n",
    "print(f\"Words with frequency >= {frequency}: {number_words_frequency[feature]}\")\n",
    "print(f\"Sentences length: {sentences_length[feature]}\")"
   ],
   "metadata": {
    "collapsed": false
   },
   "outputs": [],
   "execution_count": null
  },
  {
   "cell_type": "code",
   "source": [
    "# Convert list of words to string representation\n",
    "def join_elements(list_like_string):\n",
    "    return ' '.join(eval(list_like_string))\n",
    "\n",
    "for feature in features:\n",
    "    df[feature] = df[feature].apply(join_elements)\n",
    "\n",
    "df.fillna(\"\").astype(str)\n",
    "df.to_csv(folder + 'selected_cleaned_sentences.csv', index=False)"
   ],
   "metadata": {
    "collapsed": false
   },
   "outputs": [],
   "execution_count": null
  },
  {
   "cell_type": "code",
   "metadata": {
    "collapsed": false
   },
   "source": [
    "from keras.utils import to_categorical\n",
    "from sklearn.model_selection import train_test_split\n",
    "\n",
    "folder = 'dataset/'\n",
    "df = pd.read_csv(folder + 'selected_cleaned_sentences.csv')\n",
    "\n",
    "target = 'journal'\n",
    "\n",
    "features = df.columns.tolist()\n",
    "features.remove(target)\n",
    "\n",
    "# Replacing labels names with int\n",
    "labels = df[target].unique()\n",
    "num_classes = len(labels)\n",
    "df[target] = df[target].replace(labels, list(range(len(labels))))\n",
    "\n",
    "X_train, X_test, y_train, y_test = train_test_split(df[features], df[target], test_size=0.2, random_state=42)\n",
    "\n",
    "# Convert int labels to one-hot encoded format\n",
    "y_train = to_categorical(y_train, num_classes=num_classes)\n",
    "y_test = to_categorical(y_test, num_classes=num_classes)\n",
    "\n",
    "X_train = X_train.fillna(\"\").astype(str)\n",
    "X_test = X_test.fillna(\"\").astype(str)"
   ],
   "outputs": [],
   "execution_count": null
  },
  {
   "cell_type": "code",
   "source": [
    "from tensorflow.keras.preprocessing.text import Tokenizer\n",
    "from tensorflow.keras.preprocessing.sequence import pad_sequences\n",
    "\n",
    "# Tokenize the text for each feature\n",
    "def tokenize_text_feature(X_train, X_test, length_analysis, number_words_frequency):\n",
    "    print(f\"Number words: {number_words_frequency}\\t-\\tSequence length: {length_analysis}\")\n",
    "    \n",
    "    tokenizer = Tokenizer(num_words=number_words_frequency)\n",
    "    tokenizer.fit_on_texts(X_train)\n",
    "\n",
    "    X_train_seq = tokenizer.texts_to_sequences(X_train)\n",
    "    X_train_pad = pad_sequences(X_train_seq, maxlen=length_analysis)\n",
    "\n",
    "    X_test_seq = tokenizer.texts_to_sequences(X_test)\n",
    "    X_test_pad = pad_sequences(X_test_seq, maxlen=length_analysis)\n",
    "\n",
    "    return X_train_pad, X_test_pad\n",
    "\n",
    "def tokenize_text(X_train, X_test, features, length_analysis, number_words_frequency):\n",
    "    X_train_pad = dict()\n",
    "    X_test_pad = dict()\n",
    "\n",
    "    for feature in features:\n",
    "        print('Feature: ' + feature)\n",
    "        X_train_pad[feature], X_test_pad[feature] = tokenize_text_feature(X_train[feature], X_test[feature], length_analysis[feature], number_words_frequency[feature])\n",
    "    \n",
    "    return X_train_pad, X_test_pad\n",
    "\n",
    "\n",
    "X_train_pad, X_test_pad = tokenize_text(X_train, X_test, features, sentences_length, number_words_frequency)"
   ],
   "metadata": {
    "colab": {
     "base_uri": "https://localhost:8080/"
    },
    "id": "KmpyV16ZOz1C",
    "outputId": "0edeb27d-63eb-488b-e96f-fb26af362de4"
   },
   "outputs": [],
   "execution_count": null
  },
  {
   "metadata": {},
   "cell_type": "code",
   "outputs": [],
   "execution_count": null,
   "source": [
    "import itertools\n",
    "from keras.models import Model\n",
    "from keras.layers import Input, Embedding, LSTM, Dense, concatenate, Dropout, Bidirectional, BatchNormalization\n",
    "from metrics import f1_score\n",
    "\n",
    "def create_model(features, length_analysis, number_words, embedding_dims, lstm_units, dense_sizes, dropouts, num_classes, use_normalization=False):\n",
    "    inputs = []\n",
    "    models = []\n",
    "\n",
    "    model_name = f\"{'Norm_' if use_normalization else ''}Embed_{'_'.join([f'{feat}{dim}' for feat, dim in embedding_dims.items()])}_LSTM_{'_'.join([f'{feat}{unit}' for feat, unit in lstm_units.items()])}_Dense_{'_'.join(map(str, dense_sizes))}_Drop_{'_'.join(map(str, dropouts))}\"\n",
    "\n",
    "    print(\"Model name: \", model_name)\n",
    "\n",
    "    for feature in features:\n",
    "        input_layer = Input(shape=(length_analysis[feature],), name=feature)\n",
    "        inputs.append(input_layer)\n",
    "\n",
    "        embedding_layer = Embedding(\n",
    "            input_dim=number_words[feature],\n",
    "            output_dim=embedding_dims[feature],\n",
    "            input_length=length_analysis[feature],\n",
    "            name=f'{feature}_Embedding'\n",
    "        )(input_layer)\n",
    "        \n",
    "        lstm_layer = Bidirectional(LSTM(\n",
    "            units=lstm_units[feature],\n",
    "            dropout=0.2,\n",
    "            recurrent_dropout=0.2),\n",
    "            name=f'{feature}_Bidirectional_LSTM'\n",
    "        )(embedding_layer)\n",
    "        models.append(lstm_layer)\n",
    "\n",
    "    concatenated_features = concatenate(models, name='Concatenate_Features')\n",
    "    if use_normalization:\n",
    "        concatenated_features = BatchNormalization(name='Batch_Normalization')(concatenated_features)\n",
    "\n",
    "    for i, (dense_size, dropout) in enumerate(zip(dense_sizes, dropouts)):\n",
    "        if i == 0:\n",
    "            dense_layer = Dense(dense_size, activation='relu', name=f'Dense_{i+1}')(concatenated_features)\n",
    "        else:\n",
    "            dense_layer = Dense(dense_size, activation='relu', name=f'Dense_{i+1}')(dropout_layer)\n",
    "            \n",
    "        dropout_layer = Dropout(dropout, name=f'Dropout_{i+1}')(dense_layer)\n",
    "\n",
    "    output_layer = Dense(units=num_classes, activation='softmax', name=f'Output')(dropout_layer)\n",
    "\n",
    "    model = Model(inputs=inputs, outputs=output_layer, name=model_name)\n",
    "    model.compile(optimizer='adam', loss='categorical_crossentropy', metrics=[f1_score])\n",
    "    print(model.summary())\n",
    "    \n",
    "    return model, model_name\n",
    "\n",
    "# Define ranges for fine-tuning for each feature\n",
    "embedding_dim_ranges = {\n",
    "    features[0]: [150, 200],\n",
    "    features[1]: [100, 150],\n",
    "    features[2]: [100, 150]\n",
    "}\n",
    "\n",
    "lstm_units_ranges = {\n",
    "    features[0]: [100, 200, 300],\n",
    "    features[1]: [10, 20, 30],\n",
    "    features[2]: [10, 20, 30]\n",
    "}\n",
    "\n",
    "#Test values\n",
    "embedding_dim_ranges = {\n",
    "    features[0]: [150],\n",
    "    features[1]: [100],\n",
    "    features[2]: [100]\n",
    "}\n",
    "lstm_units_ranges = {\n",
    "    features[0]: [100],\n",
    "    features[1]: [10],\n",
    "    features[2]: [10]\n",
    "}\n",
    "\n",
    "dense_sizes_range = [[64, 128], [128, 256]]\n",
    "dropout_range = [0.2, 0.3, 0.5]\n",
    "\n",
    "models = {}\n",
    "\n",
    "for embedding_dims in itertools.product(*embedding_dim_ranges.values()):\n",
    "    for lstm_units in itertools.product(*lstm_units_ranges.values()):\n",
    "        embedding_config = dict(zip(features, embedding_dims))\n",
    "        lstm_config = dict(zip(features, lstm_units))\n",
    "        for dense_sizes in dense_sizes_range:\n",
    "            for dropouts in [dropout_range] * len(dense_sizes):  # Ensure the dropout list matches the number of dense layers \n",
    "                for use_normalization in [True, False]:\n",
    "                    model, model_name = create_model(features, sentences_length, number_words_frequency, embedding_config, lstm_config, dense_sizes, dropouts, num_classes, use_normalization=use_normalization)\n",
    "                    models[model_name] = model\n",
    "                    # Write the model to a file\n",
    "                    model.save(f'models/{model_name}.keras')"
   ]
  },
  {
   "metadata": {},
   "cell_type": "code",
   "outputs": [],
   "execution_count": null,
   "source": [
    "import matplotlib.pyplot as plt\n",
    "from tensorflow.keras.callbacks import EarlyStopping\n",
    "\n",
    "evaluation_results = {}\n",
    "\n",
    "for model_name, model in models.items():\n",
    "    print(f\"Training and evaluating model: {model_name}\")\n",
    "\n",
    "    # Train the model\n",
    "    history = model.fit(X_train_pad, y_train,\n",
    "                        batch_size=64, epochs=20,\n",
    "                        validation_data=(X_test_pad, y_test),\n",
    "                        callbacks=[\n",
    "                            EarlyStopping(monitor='val_loss', patience=10)\n",
    "                        ])\n",
    "\n",
    "    # Store the best validation F1 score\n",
    "    evaluation_results[model_name] = max(history.history['val_f1_score'])\n",
    "\n",
    "    # Plot Loss\n",
    "    plt.figure(figsize=(10, 4))\n",
    "    plt.subplot(1, 2, 1)\n",
    "    plt.plot(history.history['loss'], label='Train Loss')\n",
    "    plt.plot(history.history['val_loss'], label='Validation Loss')\n",
    "    plt.title(f'Model Loss: {model_name}')\n",
    "    plt.ylabel('Loss')\n",
    "    plt.xlabel('Epoch')\n",
    "    plt.legend(['Train', 'Validation'], loc='upper right')\n",
    "    plt.grid(True)\n",
    "\n",
    "    # Plot F1 Score\n",
    "    plt.subplot(1, 2, 2)\n",
    "    plt.plot(history.history['f1_score'], label='Train F1 Score')\n",
    "    plt.plot(history.history['val_f1_score'], label='Validation F1 Score')\n",
    "    plt.title(f'Model F1 Score: {model_name}')\n",
    "    plt.ylabel('F1 Score')\n",
    "    plt.xlabel('Epoch')\n",
    "    plt.legend(['Train', 'Validation'], loc='upper left')\n",
    "    plt.grid(True)\n",
    "\n",
    "    plt.tight_layout()\n",
    "    plt.show()\n",
    "\n",
    "# Display the best validation F1 score for each model\n",
    "for model_name, score in evaluation_results.items():\n",
    "    print(f\"{model_name}: Best Validation F1 Score = {score}\")"
   ]
  },
  {
   "cell_type": "code",
   "metadata": {
    "colab": {
     "base_uri": "https://localhost:8080/",
     "height": 1000
    },
    "id": "gccMzy6COz1I",
    "outputId": "fe6b7fa9-be1b-4eb5-b6a0-fff3b7c82daf"
   },
   "source": [
    "import numpy as np\n",
    "\n",
    "def evaluate_model(model, X_test_pad, y_test, labels):\n",
    "    # Make predictions\n",
    "    y_pred = model.predict(X_test_pad)\n",
    "    y_pred = np.argmax(y_pred, axis=1)\n",
    "\n",
    "    return evaluation_report(y_test, y_pred, labels)\n",
    "\n",
    "evaluation_reports = {}\n",
    "\n",
    "for model_name, model in models.items():\n",
    "    print(f\"Evaluating model: {model_name}\")\n",
    "    evaluation_reports[model_name] = evaluate_model(model, X_test_pad, y_test)"
   ],
   "outputs": [],
   "execution_count": null
  },
  {
   "cell_type": "code",
   "source": [],
   "metadata": {
    "collapsed": false
   },
   "outputs": [],
   "execution_count": null
  }
 ],
 "metadata": {
  "accelerator": "GPU",
  "colab": {
   "gpuType": "T4",
   "provenance": [],
   "toc_visible": true
  },
  "kernelspec": {
   "display_name": "Python 3 (ipykernel)",
   "language": "python",
   "name": "python3"
  },
  "language_info": {
   "codemirror_mode": {
    "name": "ipython",
    "version": 3
   },
   "file_extension": ".py",
   "mimetype": "text/x-python",
   "name": "python",
   "nbconvert_exporter": "python",
   "pygments_lexer": "ipython3",
   "version": "3.11.5"
  }
 },
 "nbformat": 4,
 "nbformat_minor": 0
}
